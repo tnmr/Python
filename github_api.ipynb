{
 "cells": [
  {
   "cell_type": "code",
   "execution_count": 2,
   "metadata": {},
   "outputs": [
    {
     "name": "stdout",
     "output_type": "stream",
     "text": [
      "chooaya/vimjp\n",
      "syohex/emacs-vimhelp-jp\n",
      "glts/vim-jproperties\n",
      "davidzchen/jproperties.vim\n",
      "joshperry131/jp-vimrc\n",
      "aur-archive/vim-jpythonfold\n",
      "akechi/vim-jp-card\n",
      "mpenkov/russian-jcuken-jp.vim\n",
      "aur-archive/vim-jpformat-git\n",
      "mattn/vim-jp-patches\n",
      "inkarkat/vim-syntax-jproperties\n",
      "nishitani-sandbox/typecorr\n",
      "balloon-stat/vimpa.vim\n",
      "lambdalisue/vital-loader-test\n",
      "Floofy-KH/Sim-Vim-DCT-and-JPEG-Compression\n",
      "ujihisa/vim-jp-new-year-resolution-wiki\n",
      "qh73xe/thesaurus.vim\n",
      "grauwoelfchen/pingpongpangpong-vim\n",
      "fuenor/jpmoveword.vim\n",
      "zchee/vimhelp-jp-submodules\n",
      "rinx/radiko.vim\n",
      "mattn/vimjp-issue-123\n",
      "mattn/vim-jp.herokuapp.com\n",
      "thinca/vim-jp-bot\n",
      "vim-jp/vim-users-jp\n",
      "kana/chat.vim-users.jp-log-converter\n",
      "vim-scripts/jpythonfold.vim\n",
      "osyo-manga/vimhelp-jp\n",
      "osyo-manga/vim-jplus\n",
      "fuenor/JpFormat.vim\n",
      "mattn/transparency-windows-vim\n",
      "sgur/unite-git_grep\n",
      "vim-jp/vimconf\n",
      "vim-jp/vim-jp.github.io\n"
     ]
    }
   ],
   "source": [
    "from github import Github\n",
    "\n",
    "# アカウントでログイン\n",
    "#gh = Github('tnmr', '************')\n",
    "# トークンでログイン\n",
    "token = 'a4e5f8ee6cabcaf444c285e11de36bb9fba84c11'\n",
    "gh = Github(token)\n",
    "\n",
    "# 1個目の検索ワードのスターの少ない順に表示\n",
    "for repo in gh.search_repositories('vim-jp', 'stars', 'asc'):\n",
    "    print(repo.full_name)"
   ]
  },
  {
   "cell_type": "code",
   "execution_count": 3,
   "metadata": {},
   "outputs": [
    {
     "name": "stdout",
     "output_type": "stream",
     "text": [
      "#313   WIP: Vim Magazine 2018 年 8 月\n",
      "#241   Patchesの表示が冗長\n",
      "#237   イベント関連の記事を作成しやすくする\n",
      "#219   beautiful preview on CircleCI\n",
      "#212   escape markdown\n",
      "#189   Vim Magazine の自動化を考える\n",
      "#94    ビルド方法のページにLua(LuaJIT)拡張を追加する\n",
      "#79    Vimmers に掲載されたい、したい!\n",
      "#54    VimMagazineのダウンロードランキングが順位変動とかなくて面白くないので、あれやこれやと議論しながら面白いコンテンツをみんなで考えるスレ\n",
      "#37    vim-jp.org への連絡方法がわかりません\n",
      "#25    SEO対策しよう\n",
      "#21    要議論: 各種ウィジェットやなにやらがゴチャゴチャしてないか?\n",
      "#16    「パッチの書き方」ページについて\n",
      "#13    デザイナーの観点からサイトを見直して欲しい\n",
      "#8     トップページにスクリーンショットが欲しい\n"
     ]
    }
   ],
   "source": [
    "for issue in repo.get_issues():\n",
    "    print('#{:<5} {}'.format(issue.number, issue.title))"
   ]
  },
  {
   "cell_type": "code",
   "execution_count": 3,
   "metadata": {
    "collapsed": true
   },
   "outputs": [],
   "source": [
    "#print('@'+issue.user.login, issue.body)\n",
    "#user = []\n",
    "#comment = []\n",
    "#for i in issue.get_comments():\n",
    "#    user.append(i.user.login)\n",
    "#    comment.append(i.body)\n",
    "#    print('@'+comment.user.login, comment.body)"
   ]
  },
  {
   "cell_type": "code",
   "execution_count": 4,
   "metadata": {
    "collapsed": true
   },
   "outputs": [],
   "source": [
    "#import pandas as pd\n",
    "\n",
    "#df = pd.DataFrame({'user': user,\n",
    "#                                   'comment': comment})\n",
    "#print(df)"
   ]
  },
  {
   "cell_type": "code",
   "execution_count": 4,
   "metadata": {},
   "outputs": [
    {
     "name": "stdout",
     "output_type": "stream",
     "text": [
      "['@mattn', '@koron', '@ujihisa', '@mattn', '@ujihisa']\n",
      "['僕が即興で作ったサイトなので出来ればデザイナーの方等に診断して欲しい。\\n\\nhttp://twitter.com/#!/ynkdir/statuses/115822692145430528\\n\\n> ynkdir: Vim大好きなデザイナーさんで適度にひまをもてあましてるそんな都合のいい人いないかしら。今のデザインに不満があるわけでわないが。OSSコミュでWebデザイナーとして関わってるって話は聞いたことないので素朴な疑問。 |01:20 午前 9 20, 2011|\\n', '視認性と軽さ(総量)を両立したいですね。\\n\\nそうそう軽さという意味ではfavicon.icoが230KB「も」あるのだが…w\\n', 'ちょっと知り合いのVim好きなデザイナさんに打診してみます\\n', '@ujihisa++\\n', 'このスレに今気づいた・・・知り合いのVim好きなデザイナさん、一体誰だろう・・しまった・・・。\\n']\n"
     ]
    }
   ],
   "source": [
    "#print('@'+issue.user.login)\n",
    "#print(issue.body)\n",
    "#for comment in issue.get_comments():\n",
    "#    print('@'+comment.user.login)\n",
    "#    print(comment.body)\n",
    "\n",
    "# issue番号を指定してissue表示\n",
    "var = 13\n",
    "users = list()\n",
    "users.append('@'+repo.get_issues()[var].user.login)\n",
    "comments = list()\n",
    "comments.append(repo.get_issues()[var].body)\n",
    "for comment in repo.get_issues()[var].get_comments():\n",
    "    users.append('@'+comment.user.login)\n",
    "    comments.append(comment.body)\n",
    "\n",
    "print(users)\n",
    "print(comments)"
   ]
  },
  {
   "cell_type": "code",
   "execution_count": 5,
   "metadata": {},
   "outputs": [
    {
     "data": {
      "image/svg+xml": [
       "<?xml version=\"1.0\" encoding=\"UTF-8\" standalone=\"no\"?>\n",
       "<!DOCTYPE svg PUBLIC \"-//W3C//DTD SVG 1.1//EN\"\n",
       " \"http://www.w3.org/Graphics/SVG/1.1/DTD/svg11.dtd\">\n",
       "<!-- Generated by graphviz version 2.40.1 (20161225.0304)\n",
       " -->\n",
       "<!-- Pages: 1 -->\n",
       "<svg width=\"282pt\" height=\"172pt\"\n",
       " viewBox=\"0.00 0.00 282.00 172.00\" xmlns=\"http://www.w3.org/2000/svg\" xmlns:xlink=\"http://www.w3.org/1999/xlink\">\n",
       "<g id=\"graph0\" class=\"graph\" transform=\"scale(1 1) rotate(0) translate(4 168)\">\n",
       "<polygon fill=\"#ffffff\" stroke=\"transparent\" points=\"-4,4 -4,-168 278,-168 278,4 -4,4\"/>\n",
       "<!-- 僕が即興で -->\n",
       "<g id=\"node1\" class=\"node\">\n",
       "<title>僕が即興で</title>\n",
       "<ellipse fill=\"none\" stroke=\"#000000\" cx=\"77.2381\" cy=\"-76.6409\" rx=\"60.623\" ry=\"20.5123\"/>\n",
       "<text text-anchor=\"middle\" x=\"77.2381\" y=\"-75.9409\" font-family=\"Times,serif\" font-size=\"14.00\" fill=\"#000000\">僕が即興で</text>\n",
       "</g>\n",
       "<!-- 視認性と軽 -->\n",
       "<g id=\"node2\" class=\"node\">\n",
       "<title>視認性と軽</title>\n",
       "<ellipse fill=\"none\" stroke=\"#000000\" cx=\"173.2381\" cy=\"-132.6409\" rx=\"60.623\" ry=\"20.5123\"/>\n",
       "<text text-anchor=\"middle\" x=\"173.2381\" y=\"-131.9409\" font-family=\"Times,serif\" font-size=\"14.00\" fill=\"#000000\">視認性と軽</text>\n",
       "</g>\n",
       "<!-- ちょっと知 -->\n",
       "<g id=\"node3\" class=\"node\">\n",
       "<title>ちょっと知</title>\n",
       "<ellipse fill=\"none\" stroke=\"#000000\" cx=\"213.2381\" cy=\"-28.6409\" rx=\"60.623\" ry=\"20.5123\"/>\n",
       "<text text-anchor=\"middle\" x=\"213.2381\" y=\"-27.9409\" font-family=\"Times,serif\" font-size=\"14.00\" fill=\"#000000\">ちょっと知</text>\n",
       "</g>\n",
       "<!-- @ujih -->\n",
       "<g id=\"node4\" class=\"node\">\n",
       "<title>@ujih</title>\n",
       "<ellipse fill=\"none\" stroke=\"#000000\" cx=\"64.2381\" cy=\"-145.6409\" rx=\"32.0164\" ry=\"18\"/>\n",
       "<text text-anchor=\"middle\" x=\"64.2381\" y=\"-141.4409\" font-family=\"Times,serif\" font-size=\"14.00\" fill=\"#000000\">@ujih</text>\n",
       "</g>\n",
       "<!-- このスレに -->\n",
       "<g id=\"node5\" class=\"node\">\n",
       "<title>このスレに</title>\n",
       "<ellipse fill=\"none\" stroke=\"#000000\" cx=\"61.2381\" cy=\"-20.6409\" rx=\"60.623\" ry=\"20.5123\"/>\n",
       "<text text-anchor=\"middle\" x=\"61.2381\" y=\"-19.9409\" font-family=\"Times,serif\" font-size=\"14.00\" fill=\"#000000\">このスレに</text>\n",
       "</g>\n",
       "</g>\n",
       "</svg>\n"
      ]
     },
     "metadata": {},
     "output_type": "display_data"
    }
   ],
   "source": [
    "import networkx as nx\n",
    "#import matplotlib as plt\n",
    "from IPython.display import display_svg\n",
    "\n",
    "g = nx.DiGraph()\n",
    "for node in range(len(comments)):\n",
    "    g.add_node(comments[node][:5])\n",
    "    \n",
    "#plt.figure(figsize=(15, 15))\n",
    "#pos = nx.spring_layout(g)\n",
    "#nx.draw_networkx(g, pos)\n",
    "\n",
    "svg = nx.nx_agraph.to_agraph(g).draw(prog='fdp', format='svg')\n",
    "display_svg(svg, raw=True)"
   ]
  },
  {
   "cell_type": "code",
   "execution_count": 12,
   "metadata": {},
   "outputs": [
    {
     "name": "stdout",
     "output_type": "stream",
     "text": [
      "@mattn\n",
      "僕\t名詞,代名詞,一般,*,*,*,僕,ボク,ボク\n",
      "が\t助詞,格助詞,一般,*,*,*,が,ガ,ガ\n",
      "即興\t名詞,一般,*,*,*,*,即興,ソッキョウ,ソッキョー\n",
      "で\t助詞,格助詞,一般,*,*,*,で,デ,デ\n",
      "作っ\t動詞,自立,*,*,五段・ラ行,連用タ接続,作る,ツクッ,ツクッ\n",
      "た\t助動詞,*,*,*,特殊・タ,基本形,た,タ,タ\n",
      "サイト\t名詞,一般,*,*,*,*,サイト,サイト,サイト\n",
      "な\t助動詞,*,*,*,特殊・ダ,体言接続,だ,ナ,ナ\n",
      "ので\t助詞,接続助詞,*,*,*,*,ので,ノデ,ノデ\n",
      "出来れ\t動詞,自立,*,*,一段,仮定形,出来る,デキレ,デキレ\n",
      "ば\t助詞,接続助詞,*,*,*,*,ば,バ,バ\n",
      "デザイナー\t名詞,一般,*,*,*,*,デザイナー,デザイナー,デザイナー\n",
      "の\t助詞,連体化,*,*,*,*,の,ノ,ノ\n",
      "方\t名詞,一般,*,*,*,*,方,カタ,カタ\n",
      "等\t名詞,接尾,一般,*,*,*,等,トウ,トー\n",
      "に\t助詞,格助詞,一般,*,*,*,に,ニ,ニ\n",
      "診断\t名詞,サ変接続,*,*,*,*,診断,シンダン,シンダン\n",
      "し\t動詞,自立,*,*,サ変・スル,連用形,する,シ,シ\n",
      "て\t助詞,接続助詞,*,*,*,*,て,テ,テ\n",
      "欲しい\t形容詞,非自立,*,*,形容詞・イ段,基本形,欲しい,ホシイ,ホシイ\n",
      "。\t記号,句点,*,*,*,*,。,。,。\n",
      "http://\t名詞,固有名詞,一般,*,*,*,http://,エイチティーティーピー,エイチティーティーピー\n",
      "twitter\t名詞,固有名詞,一般,*,*,*,Twitter,ツイッター,ツイッター\n",
      ".com\t名詞,固有名詞,一般,*,*,*,.com,コム,コム\n",
      "/#!/\t記号,一般,*,*,*,*,*\n",
      "ynkdir\t名詞,固有名詞,組織,*,*,*,*\n",
      "/\t記号,一般,*,*,*,*,*\n",
      "statuses\t名詞,固有名詞,組織,*,*,*,*\n",
      "/\t記号,一般,*,*,*,*,*\n",
      "115822692145430528\t名詞,数,*,*,*,*,*\n",
      ">\t記号,一般,*,*,*,*,*\n",
      "ynkdir\t名詞,固有名詞,組織,*,*,*,*\n",
      ":\t記号,一般,*,*,*,*,*\n",
      "Vim\t名詞,固有名詞,組織,*,*,*,*\n",
      "大好き\t名詞,形容動詞語幹,*,*,*,*,大好き,ダイスキ,ダイスキ\n",
      "な\t助動詞,*,*,*,特殊・ダ,体言接続,だ,ナ,ナ\n",
      "デザイナー\t名詞,一般,*,*,*,*,デザイナー,デザイナー,デザイナー\n",
      "さん\t名詞,接尾,人名,*,*,*,さん,サン,サン\n",
      "で\t助詞,格助詞,一般,*,*,*,で,デ,デ\n",
      "適度\t名詞,形容動詞語幹,*,*,*,*,適度,テキド,テキド\n",
      "に\t助詞,副詞化,*,*,*,*,に,ニ,ニ\n",
      "ひま\t名詞,一般,*,*,*,*,ひま,ヒマ,ヒマ\n",
      "を\t助詞,格助詞,一般,*,*,*,を,ヲ,ヲ\n",
      "もてあまし\t動詞,自立,*,*,五段・サ行,連用形,もてあます,モテアマシ,モテアマシ\n",
      "てる\t動詞,非自立,*,*,一段,基本形,てる,テル,テル\n",
      "そんな\t連体詞,*,*,*,*,*,そんな,ソンナ,ソンナ\n",
      "都合\t名詞,一般,*,*,*,*,都合,ツゴウ,ツゴー\n",
      "の\t助詞,格助詞,一般,*,*,*,の,ノ,ノ\n",
      "いい\t形容詞,自立,*,*,形容詞・イイ,基本形,いい,イイ,イイ\n",
      "人\t名詞,一般,*,*,*,*,人,ヒト,ヒト\n",
      "い\t動詞,自立,*,*,一段,未然形,いる,イ,イ\n",
      "ない\t助動詞,*,*,*,特殊・ナイ,基本形,ない,ナイ,ナイ\n",
      "かしら\t助詞,終助詞,*,*,*,*,かしら,カシラ,カシラ\n",
      "。\t記号,句点,*,*,*,*,。,。,。\n",
      "今\t名詞,副詞可能,*,*,*,*,今,イマ,イマ\n",
      "の\t助詞,連体化,*,*,*,*,の,ノ,ノ\n",
      "デザイン\t名詞,サ変接続,*,*,*,*,デザイン,デザイン,デザイン\n",
      "に\t助詞,格助詞,一般,*,*,*,に,ニ,ニ\n",
      "不満\t名詞,一般,*,*,*,*,不満,フマン,フマン\n",
      "が\t助詞,格助詞,一般,*,*,*,が,ガ,ガ\n",
      "ある\t動詞,自立,*,*,五段・ラ行,基本形,ある,アル,アル\n",
      "わけ\t名詞,非自立,一般,*,*,*,わけ,ワケ,ワケ\n",
      "で\t助動詞,*,*,*,特殊・ダ,連用形,だ,デ,デ\n",
      "わ\t助詞,終助詞,*,*,*,*,わ,ワ,ワ\n",
      "ない\t形容詞,自立,*,*,形容詞・アウオ段,基本形,ない,ナイ,ナイ\n",
      "が\t助詞,接続助詞,*,*,*,*,が,ガ,ガ\n",
      "。\t記号,句点,*,*,*,*,。,。,。\n",
      "OSS\t名詞,固有名詞,一般,*,*,*,OSS,オーエスエス,オーエスエス\n",
      "コミュ\t名詞,固有名詞,一般,*,*,*,コミュ,コミュ,コミュ\n",
      "で\t助詞,格助詞,一般,*,*,*,で,デ,デ\n",
      "Web\t名詞,固有名詞,一般,*,*,*,Web,ウェブ,ウェブ\n",
      "デザイナー\t名詞,一般,*,*,*,*,デザイナー,デザイナー,デザイナー\n",
      "として\t助詞,格助詞,連語,*,*,*,として,トシテ,トシテ\n",
      "関わっ\t動詞,自立,*,*,五段・ラ行,連用タ接続,関わる,カカワッ,カカワッ\n",
      "てる\t動詞,非自立,*,*,一段,基本形,てる,テル,テル\n",
      "って\t助詞,格助詞,連語,*,*,*,って,ッテ,ッテ\n",
      "話\t名詞,サ変接続,*,*,*,*,話,ハナシ,ハナシ\n",
      "は\t助詞,係助詞,*,*,*,*,は,ハ,ワ\n",
      "聞い\t動詞,自立,*,*,五段・カ行イ音便,連用タ接続,聞く,キイ,キイ\n",
      "た\t助動詞,*,*,*,特殊・タ,基本形,た,タ,タ\n",
      "こと\t名詞,非自立,一般,*,*,*,こと,コト,コト\n",
      "ない\t形容詞,自立,*,*,形容詞・アウオ段,基本形,ない,ナイ,ナイ\n",
      "ので\t助詞,接続助詞,*,*,*,*,ので,ノデ,ノデ\n",
      "素朴\t名詞,形容動詞語幹,*,*,*,*,素朴,ソボク,ソボク\n",
      "な\t助動詞,*,*,*,特殊・ダ,体言接続,だ,ナ,ナ\n",
      "疑問\t名詞,形容動詞語幹,*,*,*,*,疑問,ギモン,ギモン\n",
      "。\t記号,句点,*,*,*,*,。,。,。\n",
      "|\t記号,一般,*,*,*,*,*\n",
      "01\t名詞,数,*,*,*,*,*\n",
      ":\t記号,一般,*,*,*,*,*\n",
      "20\t名詞,数,*,*,*,*,*\n",
      "午前\t名詞,副詞可能,*,*,*,*,午前,ゴゼン,ゴゼン\n",
      "9\t名詞,数,*,*,*,*,*\n",
      "20\t名詞,数,*,*,*,*,*\n",
      ",\t記号,一般,*,*,*,*,*\n",
      "2011\t名詞,数,*,*,*,*,*\n",
      "|\t記号,一般,*,*,*,*,*\n",
      "EOS\n",
      "\n",
      "@koron\n",
      "視認\t名詞,サ変接続,*,*,*,*,視認,シニン,シニン\n",
      "性\t名詞,接尾,一般,*,*,*,性,セイ,セイ\n",
      "と\t助詞,並立助詞,*,*,*,*,と,ト,ト\n",
      "軽さ\t名詞,固有名詞,一般,*,*,*,軽さ,カルサ,カルサ\n",
      "(\t記号,一般,*,*,*,*,*\n",
      "総量\t名詞,一般,*,*,*,*,総量,ソウリョウ,ソーリョー\n",
      ")\t記号,一般,*,*,*,*,*\n",
      "を\t助詞,格助詞,一般,*,*,*,を,ヲ,ヲ\n",
      "両立\t名詞,サ変接続,*,*,*,*,両立,リョウリツ,リョーリツ\n",
      "し\t動詞,自立,*,*,サ変・スル,連用形,する,シ,シ\n",
      "たい\t助動詞,*,*,*,特殊・タイ,基本形,たい,タイ,タイ\n",
      "です\t助動詞,*,*,*,特殊・デス,基本形,です,デス,デス\n",
      "ね\t助詞,終助詞,*,*,*,*,ね,ネ,ネ\n",
      "。\t記号,句点,*,*,*,*,。,。,。\n",
      "そうそう\t名詞,一般,*,*,*,*,そうそう,ソウソウ,ソーソー\n",
      "軽さ\t名詞,固有名詞,一般,*,*,*,軽さ,カルサ,カルサ\n",
      "という\t助詞,格助詞,連語,*,*,*,という,トイウ,トユウ\n",
      "意味\t名詞,サ変接続,*,*,*,*,意味,イミ,イミ\n",
      "で\t助詞,格助詞,一般,*,*,*,で,デ,デ\n",
      "は\t助詞,係助詞,*,*,*,*,は,ハ,ワ\n",
      "favicon\t名詞,固有名詞,一般,*,*,*,favicon,ファビコン,ファビコン\n",
      ".\t記号,一般,*,*,*,*,*\n",
      "ico\t名詞,固有名詞,一般,*,*,*,ICO,アイシーオー,アイシーオー\n",
      "が\t助詞,格助詞,一般,*,*,*,が,ガ,ガ\n",
      "230K\t名詞,固有名詞,一般,*,*,*,-43度,ニヒャクサンジュウケルビン,ニヒャクサンジュウケルビン\n",
      "B\t名詞,一般,*,*,*,*,*\n",
      "「\t記号,括弧開,*,*,*,*,「,「,「\n",
      "も\t助詞,係助詞,*,*,*,*,も,モ,モ\n",
      "」\t記号,括弧閉,*,*,*,*,」,」,」\n",
      "ある\t動詞,自立,*,*,五段・ラ行,基本形,ある,アル,アル\n",
      "の\t名詞,非自立,一般,*,*,*,の,ノ,ノ\n",
      "だ\t助動詞,*,*,*,特殊・ダ,基本形,だ,ダ,ダ\n",
      "が\t助詞,接続助詞,*,*,*,*,が,ガ,ガ\n",
      "…\t記号,一般,*,*,*,*,…,…,…\n",
      "w\t名詞,固有名詞,組織,*,*,*,*\n",
      "EOS\n",
      "\n",
      "@ujihisa\n",
      "ちょっと\t副詞,助詞類接続,*,*,*,*,ちょっと,チョット,チョット\n",
      "知り合い\t名詞,一般,*,*,*,*,知り合い,シリアイ,シリアイ\n",
      "の\t助詞,連体化,*,*,*,*,の,ノ,ノ\n",
      "Vim\t名詞,一般,*,*,*,*,*\n",
      "好き\t名詞,接尾,形容動詞語幹,*,*,*,好き,スキ,スキ\n",
      "な\t助動詞,*,*,*,特殊・ダ,体言接続,だ,ナ,ナ\n",
      "デザイナ\t名詞,一般,*,*,*,*,デザイナ,デザイナ,デザイナ\n",
      "さん\t名詞,接尾,人名,*,*,*,さん,サン,サン\n",
      "に\t助詞,格助詞,一般,*,*,*,に,ニ,ニ\n",
      "打診\t名詞,サ変接続,*,*,*,*,打診,ダシン,ダシン\n",
      "し\t動詞,自立,*,*,サ変・スル,連用形,する,シ,シ\n",
      "て\t助詞,接続助詞,*,*,*,*,て,テ,テ\n",
      "み\t動詞,非自立,*,*,一段,連用形,みる,ミ,ミ\n",
      "ます\t助動詞,*,*,*,特殊・マス,基本形,ます,マス,マス\n",
      "EOS\n",
      "\n",
      "@mattn\n",
      "@\t記号,一般,*,*,*,*,*\n",
      "ujihisa\t名詞,固有名詞,組織,*,*,*,*\n",
      "++\t記号,一般,*,*,*,*,*\n",
      "EOS\n",
      "\n",
      "@ujihisa\n",
      "この\t連体詞,*,*,*,*,*,この,コノ,コノ\n",
      "スレ\t名詞,固有名詞,一般,*,*,*,スレ,スレ,スレ\n",
      "に\t助詞,格助詞,一般,*,*,*,に,ニ,ニ\n",
      "今\t名詞,副詞可能,*,*,*,*,今,イマ,イマ\n",
      "気づい\t動詞,自立,*,*,五段・カ行イ音便,連用タ接続,気づく,キヅイ,キズイ\n",
      "た\t助動詞,*,*,*,特殊・タ,基本形,た,タ,タ\n",
      "・\t記号,一般,*,*,*,*,・,・,・\n",
      "・\t記号,一般,*,*,*,*,・,・,・\n",
      "・\t記号,一般,*,*,*,*,・,・,・\n",
      "知り合い\t名詞,一般,*,*,*,*,知り合い,シリアイ,シリアイ\n",
      "の\t助詞,連体化,*,*,*,*,の,ノ,ノ\n",
      "Vim\t名詞,一般,*,*,*,*,*\n",
      "好き\t名詞,接尾,形容動詞語幹,*,*,*,好き,スキ,スキ\n",
      "な\t助動詞,*,*,*,特殊・ダ,体言接続,だ,ナ,ナ\n",
      "デザイナ\t名詞,一般,*,*,*,*,デザイナ,デザイナ,デザイナ\n",
      "さん\t名詞,接尾,人名,*,*,*,さん,サン,サン\n",
      "、\t記号,読点,*,*,*,*,、,、,、\n",
      "一体\t副詞,一般,*,*,*,*,一体,イッタイ,イッタイ\n",
      "誰\t名詞,代名詞,一般,*,*,*,誰,ダレ,ダレ\n",
      "だろ\t助動詞,*,*,*,特殊・ダ,未然形,だ,ダロ,ダロ\n",
      "う\t助動詞,*,*,*,不変化型,基本形,う,ウ,ウ\n",
      "・\t記号,一般,*,*,*,*,・,・,・\n",
      "・\t記号,一般,*,*,*,*,・,・,・\n",
      "しまっ\t動詞,自立,*,*,五段・ワ行促音便,連用タ接続,しまう,シマッ,シマッ\n",
      "た\t助動詞,*,*,*,特殊・タ,基本形,た,タ,タ\n",
      "・\t記号,一般,*,*,*,*,・,・,・\n",
      "・\t記号,一般,*,*,*,*,・,・,・\n",
      "・\t記号,一般,*,*,*,*,・,・,・\n",
      "。\t記号,句点,*,*,*,*,。,。,。\n",
      "EOS\n",
      "\n"
     ]
    }
   ],
   "source": [
    "import csv\n",
    "import pandas as pd\n",
    "import os\n",
    "import numpy as np\n",
    "\n",
    "import re\n",
    "import bs4\n",
    "import sys\n",
    "import MeCab\n",
    "#import urllib.request\n",
    "from pprint import pprint\n",
    "\n",
    "#辞書の指定\n",
    "m = MeCab.Tagger(\"-d /usr/local/lib/mecab/dic/mecab-ipadic-neologd\")\n",
    "#m = MeCab.Tagger(\"-Ochasen\")\n",
    "\n",
    "#print('@'+issue.user.login)\n",
    "#print(m.parse(issue.body))\n",
    "#for comment in issue.get_comments():\n",
    "#    print('@'+comment.user.login)\n",
    "#    print(m.parse(comment.body))\n",
    "\n",
    "for i in range(len(users)):\n",
    "    print(users[i])\n",
    "    print(m.parse(comments[i]))"
   ]
  },
  {
   "cell_type": "code",
   "execution_count": 21,
   "metadata": {},
   "outputs": [
    {
     "ename": "SyntaxError",
     "evalue": "invalid syntax (<ipython-input-21-d6dc8d91ed81>, line 13)",
     "output_type": "error",
     "traceback": [
      "\u001b[0;36m  File \u001b[0;32m\"<ipython-input-21-d6dc8d91ed81>\"\u001b[0;36m, line \u001b[0;32m13\u001b[0m\n\u001b[0;31m    model = word2vec.Word2Vec(, size=100,min_count=5,window=5,iter=100)\u001b[0m\n\u001b[0m                              ^\u001b[0m\n\u001b[0;31mSyntaxError\u001b[0m\u001b[0;31m:\u001b[0m invalid syntax\n"
     ]
    }
   ],
   "source": [
    "# Word2Vecライブラリのロード\n",
    "from gensim.models import word2vec\n",
    "\n",
    "# size: 圧縮次元数\n",
    "# min_count: 出現頻度の低いものをカットする\n",
    "# window: 前後の単語を拾う際の窓の広さを決める\n",
    "# iter: 機械学習の繰り返し回数(デフォルト:5)十分学習できていないときにこの値を調整する\n",
    "# model.wv.most_similarの結果が1に近いものばかりで、model.dict['wv']のベクトル値が小さい値ばかりの \n",
    "# ときは、学習回数が少ないと考えられます。\n",
    "# その場合、iterの値を大きくして、再度学習を行います。\n",
    "\n",
    "# 事前準備したword_listを使ってWord2Vecの学習実施\n",
    "# 単語リストは少ない量でないとダメ？\n",
    "model = word2vec.Word2Vec(, size=100,min_count=5,window=5,iter=100)\n",
    "model.save(\"word2vec.moedl\")"
   ]
  },
  {
   "cell_type": "code",
   "execution_count": 19,
   "metadata": {
    "scrolled": true
   },
   "outputs": [
    {
     "ename": "TypeError",
     "evalue": "add_edge() missing 2 required positional arguments: 'u' and 'v'",
     "output_type": "error",
     "traceback": [
      "\u001b[0;31m---------------------------------------------------------------------------\u001b[0m",
      "\u001b[0;31mTypeError\u001b[0m                                 Traceback (most recent call last)",
      "\u001b[0;32m<ipython-input-19-67662942b649>\u001b[0m in \u001b[0;36m<module>\u001b[0;34m()\u001b[0m\n\u001b[1;32m      3\u001b[0m \u001b[0;34m\u001b[0m\u001b[0m\n\u001b[1;32m      4\u001b[0m \u001b[0mg\u001b[0m \u001b[0;34m=\u001b[0m \u001b[0mnw\u001b[0m\u001b[0;34m.\u001b[0m\u001b[0mDiGraph\u001b[0m\u001b[0;34m(\u001b[0m\u001b[0;34m)\u001b[0m\u001b[0;34m\u001b[0m\u001b[0m\n\u001b[0;32m----> 5\u001b[0;31m \u001b[0mg\u001b[0m\u001b[0;34m.\u001b[0m\u001b[0madd_edge\u001b[0m\u001b[0;34m(\u001b[0m\u001b[0;34m)\u001b[0m\u001b[0;34m\u001b[0m\u001b[0m\n\u001b[0m",
      "\u001b[0;31mTypeError\u001b[0m: add_edge() missing 2 required positional arguments: 'u' and 'v'"
     ]
    }
   ],
   "source": [
    "import networkx as nw\n",
    "import matplotlib.pyplot as plt\n",
    "\n",
    "g = nw.DiGraph()\n",
    "g.add_edge()"
   ]
  },
  {
   "cell_type": "code",
   "execution_count": 20,
   "metadata": {},
   "outputs": [
    {
     "data": {
      "text/plain": [
       "MeCab.Tagger"
      ]
     },
     "execution_count": 20,
     "metadata": {},
     "output_type": "execute_result"
    }
   ],
   "source": []
  },
  {
   "cell_type": "code",
   "execution_count": 11,
   "metadata": {},
   "outputs": [
    {
     "ename": "AttributeError",
     "evalue": "module 'matplotlib.pyplot' has no attribute 'matplotlib_fname'",
     "output_type": "error",
     "traceback": [
      "\u001b[0;31m---------------------------------------------------------------------------\u001b[0m",
      "\u001b[0;31mAttributeError\u001b[0m                            Traceback (most recent call last)",
      "\u001b[0;32m<ipython-input-11-5affdae02383>\u001b[0m in \u001b[0;36m<module>\u001b[0;34m()\u001b[0m\n\u001b[0;32m----> 1\u001b[0;31m \u001b[0mplt\u001b[0m\u001b[0;34m.\u001b[0m\u001b[0mmatplotlib_fname\u001b[0m\u001b[0;34m(\u001b[0m\u001b[0;34m)\u001b[0m\u001b[0;34m\u001b[0m\u001b[0m\n\u001b[0m",
      "\u001b[0;31mAttributeError\u001b[0m: module 'matplotlib.pyplot' has no attribute 'matplotlib_fname'"
     ]
    }
   ],
   "source": [
    "plt.matplotlib_fname()"
   ]
  },
  {
   "cell_type": "code",
   "execution_count": 1,
   "metadata": {},
   "outputs": [
    {
     "name": "stdout",
     "output_type": "stream",
     "text": [
      "['IPAexGothic']\n"
     ]
    }
   ],
   "source": [
    "import matplotlib\n",
    "print(matplotlib.rcParams['font.family'])"
   ]
  },
  {
   "cell_type": "code",
   "execution_count": null,
   "metadata": {
    "collapsed": true
   },
   "outputs": [],
   "source": []
  }
 ],
 "metadata": {
  "kernelspec": {
   "display_name": "Python 3",
   "language": "python",
   "name": "python3"
  },
  "language_info": {
   "codemirror_mode": {
    "name": "ipython",
    "version": 3
   },
   "file_extension": ".py",
   "mimetype": "text/x-python",
   "name": "python",
   "nbconvert_exporter": "python",
   "pygments_lexer": "ipython3",
   "version": "3.6.3"
  }
 },
 "nbformat": 4,
 "nbformat_minor": 2
}
