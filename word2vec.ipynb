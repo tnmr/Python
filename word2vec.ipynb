{
 "cells": [
  {
   "cell_type": "code",
   "execution_count": 4,
   "metadata": {
    "scrolled": true
   },
   "outputs": [
    {
     "name": "stdout",
     "output_type": "stream",
     "text": [
      "('講読', 0.7008331418037415)\n",
      "('授業', 0.6904561519622803)\n",
      "('講演', 0.6900080442428589)\n",
      "('聴講', 0.6895406246185303)\n",
      "('講座', 0.6510576009750366)\n",
      "('公開講座', 0.6426071524620056)\n",
      "('集中講義', 0.63751220703125)\n",
      "('講話', 0.6224606037139893)\n",
      "('レクチャー', 0.6162694692611694)\n",
      "('講義ノート', 0.6123312711715698)\n"
     ]
    }
   ],
   "source": [
    "# 類義語の発見\n",
    "from gensim.models import word2vec\n",
    "\n",
    "model = word2vec.Word2Vec.load(\"wikiextractor-master/wiki.model\")\n",
    "results = model.wv.most_similar(positive=['講義'])\n",
    "for result in results:\n",
    "    print(result)"
   ]
  },
  {
   "cell_type": "code",
   "execution_count": 6,
   "metadata": {},
   "outputs": [
    {
     "name": "stdout",
     "output_type": "stream",
     "text": [
      "0.399001807022\n",
      "0.245086705422\n"
     ]
    }
   ],
   "source": [
    "# 文章間の類似度\n",
    "import MeCab\n",
    "from gensim.models import word2vec\n",
    "import numpy as np\n",
    "\n",
    "m = MeCab.Tagger(\"-d /usr/local/lib/mecab/dic/mecab-ipadic-neologd\")\n",
    "m.parse\n",
    "model = word2vec.Word2Vec.load(\"wikiextractor-master/wiki.model\")\n",
    "\n",
    "# テキストのベクトルを計算\n",
    "def get_vector(text):\n",
    "    sum_vec = np.zeros(200)\n",
    "    word_count = 0\n",
    "    node = m.parseToNode(text)\n",
    "    while node:\n",
    "        fields = node.feature.split(\",\")\n",
    "        # 名詞、動詞、形容詞に限定\n",
    "        if fields[0] == '名詞' or fields[0] == '動詞' or fields[0] == '形容詞':\n",
    "            sum_vec += model.wv[node.surface]\n",
    "            word_count += 1\n",
    "        node = node.next\n",
    "\n",
    "    return sum_vec / word_count\n",
    "\n",
    "\n",
    "# cos類似度を計算\n",
    "def cos_sim(v1, v2):\n",
    "    return np.dot(v1, v2) / (np.linalg.norm(v1) * np.linalg.norm(v2))\n",
    "\n",
    "\n",
    "if __name__ == \"__main__\":\n",
    "    v1 = get_vector('昨日、お笑い番組を見た。')\n",
    "    v2 = get_vector('昨夜、テレビで漫才をやっていた。')\n",
    "    v3 = get_vector('昨日、公園に行った。')\n",
    "\n",
    "    print(cos_sim(v1, v2))\n",
    "    print(cos_sim(v1, v3))"
   ]
  },
  {
   "cell_type": "code",
   "execution_count": null,
   "metadata": {
    "collapsed": true
   },
   "outputs": [],
   "source": []
  }
 ],
 "metadata": {
  "kernelspec": {
   "display_name": "Python 3",
   "language": "python",
   "name": "python3"
  },
  "language_info": {
   "codemirror_mode": {
    "name": "ipython",
    "version": 3
   },
   "file_extension": ".py",
   "mimetype": "text/x-python",
   "name": "python",
   "nbconvert_exporter": "python",
   "pygments_lexer": "ipython3",
   "version": "3.6.3"
  }
 },
 "nbformat": 4,
 "nbformat_minor": 2
}
